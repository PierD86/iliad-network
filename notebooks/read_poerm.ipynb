{
 "cells": [
  {
   "cell_type": "code",
   "execution_count": 2,
   "metadata": {},
   "outputs": [],
   "source": [
    "from collections import defaultdict\n",
    "\n",
    "import pandas as pd\n",
    "import spacy\n",
    "from textblob import TextBlob"
   ]
  },
  {
   "cell_type": "code",
   "execution_count": 5,
   "metadata": {},
   "outputs": [],
   "source": [
    "file_path = \"../data/the-iliad-poem/poem.txt\"\n",
    "with open(file_path, \"r\", encoding=\"utf-8\") as file:\n",
    "    lines = file.readlines()\n",
    "\n",
    "clean_text = \"\".join(lines[:]).strip()"
   ]
  },
  {
   "cell_type": "code",
   "execution_count": 6,
   "metadata": {},
   "outputs": [
    {
     "name": "stdout",
     "output_type": "stream",
     "text": [
      "['----------------------------------------------------------------------  BOOK I  Sing, O goddess, the anger of Achilles son of Peleus, that brought countless ills upon the Achaeans.', 'Many a brave soul did it send hurrying down to Hades, and many a hero did it yield a prey to dogs and vultures, for so were the counsels of Jove fulfilled from the day on which the son of Atreus, king of men, and great Achilles, first fell out with one another.   ', 'And which of the gods was it that set them on to quarrel?', 'It was the son of Jove and Leto; for he was angry with the king and sent a pestilence upon the host to plague the people, because the son of Atreus had dishonoured Chryses his priest.', \"Now Chryses had come to the ships of the Achaeans to free his daughter, and had brought with him a great ransom: moreover he bore in his hand the sceptre of Apollo wreathed with a suppliant's wreath and he besought the Achaeans, but most of all the two sons of Atreus, who were their chiefs.   \"]\n"
     ]
    }
   ],
   "source": [
    "# Load spaCy's large English model\n",
    "nlp = spacy.load(\"en_core_web_sm\")\n",
    "# python -m spacy download en_core_web_sm\n",
    "\n",
    "\n",
    "def preprocess_iliad(text):\n",
    "    # Clean up unnecessary spaces and newlines\n",
    "    text = text.replace(\"\\n\", \" \").strip()\n",
    "\n",
    "    # Tokenize the text using spaCy\n",
    "    doc = nlp(text)\n",
    "\n",
    "    # Return the list of sentences and words (tokens)\n",
    "    sentences = [sent.text for sent in doc.sents]\n",
    "    words = [token.text for token in doc]\n",
    "\n",
    "    return sentences, words\n",
    "\n",
    "\n",
    "# Example usage\n",
    "iliad_sentences, iliad_words = preprocess_iliad(clean_text)\n",
    "print(iliad_sentences[:5])  # Preview first 5 sentences"
   ]
  },
  {
   "cell_type": "code",
   "execution_count": 7,
   "metadata": {},
   "outputs": [
    {
     "name": "stdout",
     "output_type": "stream",
     "text": [
      "{'Argos', 'Antimachus', 'Hiketaon', 'Mycenae', 'Euippus', 'Polyidus', 'Charis', 'Dolops', 'Priam', 'Bellerophon', 'Ilioneus', 'Alybe', 'Thalpius-', 'Pittheus', 'Iphinous', 'Thymbra', 'Medesicaste', 'Jason', 'Zeus', 'Stratie', 'Cardamyle', 'Elis', 'Cabesus', 'Queen Juno', 'Phylas', 'Alpheus', 'Jove', 'Casus', 'Laerceus', 'Pelias', 'Apisaon', 'Telamon', 'Calchas', 'Oechalian Eurytus', 'Dread\\nAchilles', \"King Priam's\", 'Gerene', 'Drop', 'Medon', 'Euaemon', 'Pollux', 'Wretch', 'Polydorus', 'Clymene', 'Atymnius', 'Thrasymedes', 'Hitherto', 'Dodona', 'Makar', 'Amphidamas', 'Cilla', 'Hippocoon', 'Zephyrus', 'Glaucus', 'Hippolochus', 'Euchenor', 'Atreus', 'Ring', 'Chryse', 'Cromna', 'Chalcon', 'Anthedon', 'Ilithuia', 'King Eumelus', 'Dresus', 'Batieia', 'Hector', 'Pheia', 'Phylomedusa', 'Death', 'Aspledon', 'Epeus', 'Lycaon', 'Rhene', 'King Euphetes', 'Crethon', 'Lesbos-', 'Maris', 'Madam', 'Ascalaphus', 'Olene', 'Stand', 'Leonteus', 'King Peleus', 'Cassandra', 'Nestor', 'Peraebi', 'Pheras', 'Thetis', 'Riot', 'Isus', 'Wildfire Rumour', 'Alexandrus kills Menelaus', 'Machaon', 'Amydon', 'Thryum', 'Myrmidons', 'Archelochus', 'Ennomus', 'Juno of Argos', 'Simois', 'Idiot', 'Hercules', 'Acamas', 'Achaea', 'Eniopeus', 'Lycomedes', 'Teucer', 'Callianassa', 'Achaeans-', 'Argive Helen', 'Maeander', 'Idaeus', 'Ilithuiae', 'Trojan', 'Tell Minerva', 'Amarynceus', 'Autophonus-', 'Fleet Ajax', 'Scamander', 'Ajaxes', 'Meleager', 'Orestes', 'Messe', 'Andraemon', 'Venus', 'Emathia', 'Bias', 'pell-mell', 'Tydeus', 'Aegaeon', 'Oeneus', 'Mycene', 'Mecisteus', 'Pylos', 'Hymen', 'Itymoneus', 'Thereon Antiphus', 'Xanthus', 'Eurydamas', 'Dryas', 'Menestheus', 'Pytho', 'Cymindis', 'Plataea', 'Enope', 'Selli', 'Thebe', 'Aulis', 'Alastor', 'Phoebus Apollo', 'Perseus', 'Polites', 'Althaea', 'Argissa', 'Larissa', 'Asine', 'Dexamene', 'Orsilochus', 'Astynous', 'heifers', 'Asteropaeus', 'Styx', 'Protesilaus', 'Helenus', 'Azeus', 'Bathycles', 'kill-', 'kinsman', 'Theseus', 'Cruel Jove', 'hardship-', 'Proud Diomed', 'Hither', 'Sarpedon', 'sally', 'Typhoeus', 'Orthaeus', 'Fair Hecamede', 'Ancaeus', 'Rhipae', 'Demouchus', 'Brave Menelaus', 'Phyleus', 'Orneae', 'Amphius', 'Agacles', 'Teucer Aretaon', 'Euphemus', 'Alexandrus', 'Leleges', 'Forthwith', 'Lacedaemon', 'Hippothous', 'Eriopis', 'Hellas', 'Alcmena', 'Ajax', 'Arcesilaus', 'Thymbraeus', 'Helen', 'Nay', 'Danae', 'Brave Thrasymedes', 'Sirrah', 'Aethon', 'Rhea', 'Copreus', 'Chersidamas', 'Pheres', 'Elasus', 'Juno', 'Iris', 'Midea', 'Maeon', 'Laodocus', 'Mydon', 'Simoeisius', 'Castor', 'Arene', 'Iphidamas', 'Eudorus', 'Liars', 'city-', 'Olympian Jove', 'Echemmon', 'Peleus', 'Aepea', 'Archer', 'Antilochus', 'Guneus', 'Doris', 'Chryseis', 'Thaumacia', 'Bryseae', 'ruth', 'Thick', 'Brave Diomed', 'Aeneas', 'Apollo', 'Haemon', 'Lilaea', 'Echius', 'Agastrophus', 'Chalcis', 'King Menelaus', 'Minerva-', 'Eurystheus', 'Polydamas', 'Mighty Idomeneus', 'Marpessa', 'Licymnius', 'Hippasus', 'Pityeia', 'Capaneus', 'Melas', 'Ariadne', 'Cleopatra', 'Hippodamas', 'Chromius', 'Hippemolgi', 'Tegea', 'King Agamemnon', 'Woe', 'King Amarynceus', 'Idomeneus', 'Eumelus', 'Phthia', 'Hyampolis', 'Achaean Argos', 'King Jove', 'Samos', 'Polypoetes', 'Enetae', 'Otreus', 'Aphareus', 'Diocles', 'Thootes', 'Diomed', 'Pandarus', 'Oenomaus', 'Castianeira', 'Phorbas', 'Aegialeia', 'Pelasgic Argos', 'Presently Epeus', 'Leto, Xanthus', 'Thrice', 'Insolence', 'Pallas Minerva', 'Aesculapius', 'Goddess Iris', 'Portheus', 'Thebes', 'Promachus', 'Lift', 'Boagrius', 'Pylaeus', 'Menesthius', 'Pasithea', 'Alexandrus-', 'Eleon', 'Cast', 'Erinys', 'Adrestus', 'gore', 'Eussorus', 'Folly', 'Varne', 'Thamyris', 'Melanippus', 'Hyle', 'Cruel', 'Clonius', 'Hypsipyle', 'Epeigeus', 'Phradmon', 'Euneus', 'Theano', 'Deicoon', 'Deipylus', 'Vulcan', 'Sword', 'Troy', 'Achilles', 'Trito', 'Messeis', 'Saturn', 'Peneus', 'Archilochus', 'I. Therefore', 'King Priam', 'Stichius', 'Ephyra', 'Erythrae', 'Briareus', 'many- whereon', 'Samos Imbrus', 'Polyaemon', 'Noemon', 'King Vulcan', 'Stymphelus', 'Cisseus', 'Mulius', 'XV', 'Anemorea', 'Fate', 'Sisyphus', 'King Eurystheus', 'Scandea', 'Dawn', 'Ida', 'Ulysses', 'Enyo', 'Dynamene', 'Ganymede', 'Great Ajax', 'Peires', 'nectar', 'Menelaus', 'Isander', 'King Elephenor', 'Samothrace', 'Lycians', 'Lycurgus', 'Agamemnon', 'Erymas', 'Tenthredon', 'ablaze-', 'Mentes', 'Podargus', 'Socus', 'Boreas', 'Phegeus', 'Oileus', 'myself- Peleus', 'Cleonae', 'Diana', 'Forthwith Ajax', 'Thereon Alexandrus', 'Coon', 'Thebaeus', 'Nisa', 'Briseis', 'Patroclous', 'Helos', 'Fools', 'Chryses', 'Lycia', 'Damasus', 'Lyrnessus', 'Tros', 'Pylene', 'Polites Echius', 'King Augeas', 'Democoon', 'Abantes', 'Great Oeneus', 'Semele', 'bush', 'Minos', 'Lesbians', 'Leto', 'Antrum', 'Odius', 'Great Hector', 'Briseus', 'Neleus', 'Araethyrea', 'Scyros', 'Hire', 'Thereon Polypoetes', 'Aipy', 'Shield', 'Thetis\\n', 'Glad', 'Sesamus', 'Minerva', 'Podes', 'Demoleon', 'Laomedon', 'Fair Polydora', 'King Apollo', 'jason', 'Fleet Iris', 'Ceos', 'Ephyri', 'Sthenelus', 'Hippodameia', 'Lycian Apollo', 'Thereon Minerva', 'Proserpine'}\n"
     ]
    }
   ],
   "source": [
    "def extract_characters(text):\n",
    "    doc = nlp(text)\n",
    "    characters = set()  # Use a set to avoid duplicates\n",
    "\n",
    "    # Extract named entities (persons) from the text\n",
    "    for ent in doc.ents:\n",
    "        if ent.label_ == \"PERSON\":  # Filter only person entities\n",
    "            characters.add(ent.text)\n",
    "\n",
    "    return characters\n",
    "\n",
    "\n",
    "# Example usage\n",
    "characters = extract_characters(clean_text)\n",
    "print(characters)  # Print the set of detected characters"
   ]
  },
  {
   "cell_type": "code",
   "execution_count": 8,
   "metadata": {},
   "outputs": [
    {
     "name": "stdout",
     "output_type": "stream",
     "text": [
      "                Jove  Priam  Chryse  Cilla  Phoebus Apollo  Calchas  Achilles  \\\n",
      "Priam           23.0    0.0     0.0    0.0             0.0      0.0       5.0   \n",
      "Phoebus Apollo   2.0    0.0     0.0    0.0             0.0      0.0       0.0   \n",
      "Agamemnon       11.0    2.0     0.0    0.0             0.0      0.0       3.0   \n",
      "Juno            26.0    1.0     0.0    0.0             0.0      0.0       1.0   \n",
      "Dawn             2.0    0.0     0.0    0.0             0.0      0.0       0.0   \n",
      "\n",
      "                Idomeneus  Chryseis  Ajax  ...  King Eumelus  Pheres  \\\n",
      "Priam                 0.0       0.0   5.0  ...           0.0     0.0   \n",
      "Phoebus Apollo        0.0       0.0   0.0  ...           0.0     0.0   \n",
      "Agamemnon             0.0       0.0   1.0  ...           0.0     0.0   \n",
      "Juno                  0.0       0.0   0.0  ...           0.0     0.0   \n",
      "Dawn                  0.0       0.0   0.0  ...           0.0     0.0   \n",
      "\n",
      "                Antilochus  Epeus  Eueneus  jason  Lycaon  Patroclous  \\\n",
      "Priam                  0.0    0.0      1.0    1.0     1.0         1.0   \n",
      "Phoebus Apollo         0.0    0.0      0.0    0.0     0.0         0.0   \n",
      "Agamemnon              0.0    0.0      0.0    0.0     0.0         0.0   \n",
      "Juno                   0.0    0.0      0.0    0.0     0.0         0.0   \n",
      "Dawn                   0.0    0.0      0.0    0.0     0.0         0.0   \n",
      "\n",
      "                many- whereon  Samos Imbrus  \n",
      "Priam                     0.0           0.0  \n",
      "Phoebus Apollo            0.0           0.0  \n",
      "Agamemnon                 0.0           0.0  \n",
      "Juno                      0.0           0.0  \n",
      "Dawn                      0.0           0.0  \n",
      "\n",
      "[5 rows x 287 columns]\n"
     ]
    }
   ],
   "source": [
    "def build_cooccurrence_matrix(sentences, characters):\n",
    "    # Create a dictionary to store co-occurrences\n",
    "    cooccurrence_dict = defaultdict(lambda: defaultdict(int))\n",
    "\n",
    "    # Loop over sentences\n",
    "    for sentence in sentences:\n",
    "        # Extract character mentions in the sentence\n",
    "        mentioned_characters = set(extract_characters(sentence))\n",
    "\n",
    "        # If multiple characters are mentioned, increment co-occurrence counts\n",
    "        for char1 in mentioned_characters:\n",
    "            for char2 in mentioned_characters:\n",
    "                if char1 != char2:\n",
    "                    cooccurrence_dict[char1][char2] += 1\n",
    "\n",
    "    # Convert the dictionary into a DataFrame for easy viewing\n",
    "    cooccurrence_df = pd.DataFrame.from_dict(cooccurrence_dict).fillna(0)\n",
    "    return cooccurrence_df\n",
    "\n",
    "\n",
    "# Example usage\n",
    "cooccurrence_matrix = build_cooccurrence_matrix(iliad_sentences, characters)\n",
    "print(cooccurrence_matrix.head())  # Preview the co-occurrence matrix"
   ]
  },
  {
   "cell_type": "code",
   "execution_count": 10,
   "metadata": {},
   "outputs": [
    {
     "name": "stdout",
     "output_type": "stream",
     "text": [
      "Sentence: ----------------------------------------------------------------------  BOOK I  Sing, O goddess, the anger of Achilles son of Peleus, that brought countless ills upon the Achaeans. | Sentiment: -0.35\n",
      "Sentence: Many a brave soul did it send hurrying down to Hades, and many a hero did it yield a prey to dogs and vultures, for so were the counsels of Jove fulfilled from the day on which the son of Atreus, king of men, and great Achilles, first fell out with one another.    | Sentiment: 0.4490740740740741\n",
      "Sentence: For nine whole days he shot his arrows among the people, but upon the tenth day Achilles called them in assembly- moved thereto by Juno, who saw the Achaeans in their death-throes and had compassion upon them. | Sentiment: 0.2\n",
      "Sentence: With all sincerity and goodwill he addressed them thus:-   \"Achilles, loved of heaven, you bid me tell you about the anger of King Apollo, I will therefore do so; but consider first and swear that you will stand by me heartily in word and deed, for I know that I shall offend one who rules the Argives with might, to whom all the Achaeans are in subjection. | Sentiment: 0.08333333333333333\n",
      "Sentence: And Achilles answered, \"Fear not, but speak as it is borne in upon you from heaven, for by Apollo, Calchas, to whom you pray, and whose oracles you reveal to us, not a Danaan at our ships shall lay his hand upon you, while I yet live to look upon the face of the earth- | Sentiment: 0.13636363636363635\n"
     ]
    }
   ],
   "source": [
    "def analyze_sentiment(sentence):\n",
    "    blob = TextBlob(sentence)\n",
    "    return blob.sentiment.polarity  # Returns sentiment score (-1 to 1)\n",
    "\n",
    "\n",
    "def sentiment_analysis(sentences, character):\n",
    "    # Dictionary to store sentiment scores for each character's sentence\n",
    "    character_sentiments = []\n",
    "\n",
    "    for sentence in sentences:\n",
    "        # Check if the character is mentioned in the sentence\n",
    "        if character in sentence:\n",
    "            sentiment_score = analyze_sentiment(sentence)\n",
    "            character_sentiments.append((sentence, sentiment_score))\n",
    "\n",
    "    return character_sentiments\n",
    "\n",
    "\n",
    "# Example usage\n",
    "char = \"Achilles\"  # Example character\n",
    "achilles_sentiments = sentiment_analysis(iliad_sentences, char)\n",
    "\n",
    "# Print a few example sentences with sentiment scores\n",
    "for sentence, sentiment in achilles_sentiments[:5]:\n",
    "    print(f\"Sentence: {sentence} | Sentiment: {sentiment}\")"
   ]
  }
 ],
 "metadata": {
  "kernelspec": {
   "display_name": ".venv",
   "language": "python",
   "name": "python3"
  },
  "language_info": {
   "codemirror_mode": {
    "name": "ipython",
    "version": 3
   },
   "file_extension": ".py",
   "mimetype": "text/x-python",
   "name": "python",
   "nbconvert_exporter": "python",
   "pygments_lexer": "ipython3",
   "version": "3.13.1"
  }
 },
 "nbformat": 4,
 "nbformat_minor": 2
}
