{
 "cells": [
  {
   "cell_type": "code",
   "execution_count": 21,
   "metadata": {},
   "outputs": [],
   "source": [
    "from collections import defaultdict\n",
    "\n",
    "import pandas as pd\n",
    "import spacy\n",
    "from textblob import TextBlob\n",
    "\n",
    "from iliad_network.components.readers import LocalReader"
   ]
  },
  {
   "cell_type": "code",
   "execution_count": 22,
   "metadata": {},
   "outputs": [],
   "source": [
    "reader = LocalReader()\n",
    "try:\n",
    "    poem_text = reader.run()\n",
    "    clean_text = poem_text.content  # Access the clean text\n",
    "except ValueError as e:\n",
    "    print(f\"Validation Error: {e}\")"
   ]
  },
  {
   "cell_type": "code",
   "execution_count": 23,
   "metadata": {},
   "outputs": [
    {
     "name": "stdout",
     "output_type": "stream",
     "text": [
      "['----------------------------------------------------------------------  BOOK I  Sing, O goddess, the anger of Achilles son of Peleus, that brought countless ills upon the Achaeans.', 'Many a brave soul did it send hurrying down to Hades, and many a hero did it yield a prey to dogs and vultures, for so were the counsels of Jove fulfilled from the day on which the son of Atreus, king of men, and great Achilles, first fell out with one another.   ', 'And which of the gods was it that set them on to quarrel?', 'It was the son of Jove and Leto; for he was angry with the king and sent a pestilence upon the host to plague the people, because the son of Atreus had dishonoured Chryses his priest.', \"Now Chryses had come to the ships of the Achaeans to free his daughter, and had brought with him a great ransom: moreover he bore in his hand the sceptre of Apollo wreathed with a suppliant's wreath and he besought the Achaeans, but most of all the two sons of Atreus, who were their chiefs.   \"]\n"
     ]
    }
   ],
   "source": [
    "# Load spaCy's large English model\n",
    "nlp = spacy.load(\"en_core_web_sm\")\n",
    "# python -m spacy download en_core_web_sm\n",
    "\n",
    "\n",
    "def preprocess_iliad(text):\n",
    "    # Clean up unnecessary spaces and newlines\n",
    "    text = text.replace(\"\\n\", \" \").strip()\n",
    "\n",
    "    # Tokenize the text using spaCy\n",
    "    doc = nlp(text)\n",
    "\n",
    "    # Return the list of sentences and words (tokens)\n",
    "    sentences = [sent.text for sent in doc.sents]\n",
    "    words = [token.text for token in doc]\n",
    "\n",
    "    return sentences, words\n",
    "\n",
    "\n",
    "# Example usage\n",
    "iliad_sentences, iliad_words = preprocess_iliad(clean_text)\n",
    "print(iliad_sentences[:5])  # Preview first 5 sentences"
   ]
  },
  {
   "cell_type": "code",
   "execution_count": null,
   "metadata": {},
   "outputs": [],
   "source": [
    "def extract_characters(text):\n",
    "    doc = nlp(text)\n",
    "    characters = set()  # Use a set to avoid duplicates\n",
    "\n",
    "    # Extract named entities (persons) from the text\n",
    "    for ent in doc.ents:\n",
    "        if ent.label_ == \"PERSON\":  # Filter only person entities\n",
    "            characters.add(ent.text)\n",
    "\n",
    "    return characters\n",
    "\n",
    "\n",
    "# Example usage\n",
    "characters = extract_characters(clean_text)\n",
    "print(characters)  # Print the set of detected characters"
   ]
  },
  {
   "cell_type": "code",
   "execution_count": null,
   "metadata": {},
   "outputs": [
    {
     "name": "stdout",
     "output_type": "stream",
     "text": [
      "            Priam  Jove  Cilla  Chryse  Phoebus Apollo  Calchas  Achilles  \\\n",
      "Jove         23.0   0.0    0.0     0.0             2.0      0.0       2.0   \n",
      "Cruel Jove    1.0   0.0    0.0     0.0             0.0      0.0       0.0   \n",
      "Juno          1.0  26.0    0.0     0.0             0.0      0.0       1.0   \n",
      "Minerva       3.0  36.0    0.0     0.0             0.0      0.0       0.0   \n",
      "Agamemnon     2.0  11.0    0.0     0.0             0.0      0.0       3.0   \n",
      "\n",
      "            Idomeneus  Ajax  Chryseis  ...  King Eumelus  Pheres  Antilochus  \\\n",
      "Jove              0.0  10.0       0.0  ...           0.0     0.0         0.0   \n",
      "Cruel Jove        0.0   0.0       0.0  ...           0.0     0.0         0.0   \n",
      "Juno              0.0   0.0       0.0  ...           0.0     0.0         0.0   \n",
      "Minerva           0.0   2.0       0.0  ...           0.0     0.0         0.0   \n",
      "Agamemnon         0.0   1.0       0.0  ...           0.0     0.0         0.0   \n",
      "\n",
      "            Epeus  Eueneus  jason  Lycaon  Patroclous  many- whereon  \\\n",
      "Jove          0.0      0.0    0.0     0.0         0.0            0.0   \n",
      "Cruel Jove    0.0      0.0    0.0     0.0         0.0            0.0   \n",
      "Juno          0.0      0.0    0.0     0.0         0.0            0.0   \n",
      "Minerva       0.0      0.0    0.0     0.0         0.0            0.0   \n",
      "Agamemnon     0.0      0.0    0.0     0.0         0.0            0.0   \n",
      "\n",
      "            Samos Imbrus  \n",
      "Jove                 0.0  \n",
      "Cruel Jove           0.0  \n",
      "Juno                 0.0  \n",
      "Minerva              0.0  \n",
      "Agamemnon            0.0  \n",
      "\n",
      "[5 rows x 287 columns]\n"
     ]
    }
   ],
   "source": [
    "def build_cooccurrence_matrix(sentences, characters):\n",
    "    # Create a dictionary to store co-occurrences\n",
    "    cooccurrence_dict = defaultdict(lambda: defaultdict(int))\n",
    "\n",
    "    # Loop over sentences\n",
    "    for sentence in sentences:\n",
    "        # Extract character mentions in the sentence\n",
    "        mentioned_characters = set(extract_characters(sentence))\n",
    "\n",
    "        # If multiple characters are mentioned, increment co-occurrence counts\n",
    "        for char1 in mentioned_characters:\n",
    "            for char2 in mentioned_characters:\n",
    "                if char1 != char2:\n",
    "                    cooccurrence_dict[char1][char2] += 1\n",
    "\n",
    "    # Convert the dictionary into a DataFrame for easy viewing\n",
    "    cooccurrence_df = pd.DataFrame.from_dict(cooccurrence_dict).fillna(0)\n",
    "    return cooccurrence_df\n",
    "\n",
    "\n",
    "# Example usage\n",
    "cooccurrence_matrix = build_cooccurrence_matrix(iliad_sentences, characters)\n",
    "print(cooccurrence_matrix.head())  # Preview the co-occurrence matrix"
   ]
  },
  {
   "cell_type": "code",
   "execution_count": 20,
   "metadata": {},
   "outputs": [
    {
     "name": "stdout",
     "output_type": "stream",
     "text": [
      "Sentence: ----------------------------------------------------------------------  BOOK I  Sing, O goddess, the anger of Achilles son of Peleus, that brought countless ills upon the Achaeans. | Sentiment: -0.35\n",
      "Sentence: Many a brave soul did it send hurrying down to Hades, and many a hero did it yield a prey to dogs and vultures, for so were the counsels of Jove fulfilled from the day on which the son of Atreus, king of men, and great Achilles, first fell out with one another.    | Sentiment: 0.4490740740740741\n",
      "Sentence: For nine whole days he shot his arrows among the people, but upon the tenth day Achilles called them in assembly- moved thereto by Juno, who saw the Achaeans in their death-throes and had compassion upon them. | Sentiment: 0.2\n",
      "Sentence: With all sincerity and goodwill he addressed them thus:-   \"Achilles, loved of heaven, you bid me tell you about the anger of King Apollo, I will therefore do so; but consider first and swear that you will stand by me heartily in word and deed, for I know that I shall offend one who rules the Argives with might, to whom all the Achaeans are in subjection. | Sentiment: 0.08333333333333333\n",
      "Sentence: And Achilles answered, \"Fear not, but speak as it is borne in upon you from heaven, for by Apollo, Calchas, to whom you pray, and whose oracles you reveal to us, not a Danaan at our ships shall lay his hand upon you, while I yet live to look upon the face of the earth- | Sentiment: 0.13636363636363635\n"
     ]
    }
   ],
   "source": [
    "def analyze_sentiment(sentence):\n",
    "    blob = TextBlob(sentence)\n",
    "    return blob.sentiment.polarity  # Returns sentiment score (-1 to 1)\n",
    "\n",
    "\n",
    "def sentiment_analysis(sentences, character):\n",
    "    # Dictionary to store sentiment scores for each character's sentence\n",
    "    character_sentiments = []\n",
    "\n",
    "    for sentence in sentences:\n",
    "        # Check if the character is mentioned in the sentence\n",
    "        if character in sentence:\n",
    "            sentiment_score = analyze_sentiment(sentence)\n",
    "            character_sentiments.append((sentence, sentiment_score))\n",
    "\n",
    "    return character_sentiments\n",
    "\n",
    "\n",
    "# Example usage\n",
    "char = \"Achilles\"  # Example character\n",
    "achilles_sentiments = sentiment_analysis(iliad_sentences, char)\n",
    "\n",
    "# Print a few example sentences with sentiment scores\n",
    "for sentence, sentiment in achilles_sentiments[:5]:\n",
    "    print(f\"Sentence: {sentence} | Sentiment: {sentiment}\")"
   ]
  }
 ],
 "metadata": {
  "kernelspec": {
   "display_name": ".venv",
   "language": "python",
   "name": "python3"
  },
  "language_info": {
   "codemirror_mode": {
    "name": "ipython",
    "version": 3
   },
   "file_extension": ".py",
   "mimetype": "text/x-python",
   "name": "python",
   "nbconvert_exporter": "python",
   "pygments_lexer": "ipython3",
   "version": "3.12.8"
  }
 },
 "nbformat": 4,
 "nbformat_minor": 2
}
