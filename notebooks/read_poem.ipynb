{
 "cells": [
  {
   "cell_type": "code",
   "execution_count": 7,
   "metadata": {},
   "outputs": [],
   "source": [
    "from collections import defaultdict\n",
    "\n",
    "import pandas as pd\n",
    "from textblob import TextBlob\n",
    "\n",
    "from iliad_network.components.analyzers import SentimentAnalyzer\n",
    "from iliad_network.components.preprocessors import TextPreProcessor\n",
    "from iliad_network.components.readers import LocalReader"
   ]
  },
  {
   "cell_type": "code",
   "execution_count": 2,
   "metadata": {},
   "outputs": [
    {
     "name": "stdout",
     "output_type": "stream",
     "text": [
      "Python 3.12.8\n"
     ]
    }
   ],
   "source": [
    "!python --version"
   ]
  },
  {
   "cell_type": "code",
   "execution_count": 3,
   "metadata": {},
   "outputs": [],
   "source": [
    "reader = LocalReader()\n",
    "try:\n",
    "    poem_text = reader.run()\n",
    "    clean_text = poem_text.content  # Access the clean text\n",
    "except ValueError as e:\n",
    "    print(f\"Validation Error: {e}\")"
   ]
  },
  {
   "cell_type": "code",
   "execution_count": 4,
   "metadata": {},
   "outputs": [],
   "source": [
    "preprocessor = TextPreProcessor(model_name=\"en_core_web_sm\")\n",
    "iliad_sentences, iliad_words = preprocessor.clean_text(clean_text)\n",
    "characters = preprocessor.extract_characters(clean_text)"
   ]
  },
  {
   "cell_type": "code",
   "execution_count": null,
   "metadata": {},
   "outputs": [],
   "source": [
    "analyzer = SentimentAnalyzer(preprocessor=preprocessor)"
   ]
  },
  {
   "cell_type": "code",
   "execution_count": null,
   "metadata": {},
   "outputs": [],
   "source": [
    "def build_cooccurrence_matrix(sentences, characters):\n",
    "    # Create a dictionary to store co-occurrences\n",
    "    cooccurrence_dict = defaultdict(lambda: defaultdict(int))\n",
    "\n",
    "    # Loop over sentences\n",
    "    for sentence in sentences:\n",
    "        # Extract character mentions in the sentence\n",
    "        mentioned_characters = set(preprocessor.extract_characters(sentence))\n",
    "\n",
    "        # If multiple characters are mentioned, increment co-occurrence counts\n",
    "        for char1 in mentioned_characters:\n",
    "            for char2 in mentioned_characters:\n",
    "                if char1 != char2:\n",
    "                    cooccurrence_dict[char1][char2] += 1\n",
    "\n",
    "    # Convert the dictionary into a DataFrame for easy viewing\n",
    "    cooccurrence_df = pd.DataFrame.from_dict(cooccurrence_dict).fillna(0)\n",
    "    return cooccurrence_df\n",
    "\n",
    "\n",
    "# Example usage\n",
    "cooccurrence_matrix = build_cooccurrence_matrix(iliad_sentences, characters)\n",
    "print(cooccurrence_matrix.head())  # Preview the co-occurrence matrix"
   ]
  },
  {
   "cell_type": "code",
   "execution_count": null,
   "metadata": {},
   "outputs": [],
   "source": [
    "def analyze_sentiment(sentence):\n",
    "    blob = TextBlob(sentence)\n",
    "    return blob.sentiment.polarity  # Returns sentiment score (-1 to 1)\n",
    "\n",
    "\n",
    "def sentiment_analysis(sentences, character):\n",
    "    # Dictionary to store sentiment scores for each character's sentence\n",
    "    character_sentiments = []\n",
    "\n",
    "    for sentence in sentences:\n",
    "        # Check if the character is mentioned in the sentence\n",
    "        if character in sentence:\n",
    "            sentiment_score = analyze_sentiment(sentence)\n",
    "            character_sentiments.append((sentence, sentiment_score))\n",
    "\n",
    "    return character_sentiments\n",
    "\n",
    "\n",
    "# Example usage\n",
    "char = \"Achilles\"  # Example character\n",
    "achilles_sentiments = sentiment_analysis(iliad_sentences, char)\n",
    "\n",
    "# Print a few example sentences with sentiment scores\n",
    "for sentence, sentiment in achilles_sentiments[:5]:\n",
    "    print(f\"Sentence: {sentence} | Sentiment: {sentiment}\")"
   ]
  }
 ],
 "metadata": {
  "kernelspec": {
   "display_name": ".venv",
   "language": "python",
   "name": "python3"
  },
  "language_info": {
   "codemirror_mode": {
    "name": "ipython",
    "version": 3
   },
   "file_extension": ".py",
   "mimetype": "text/x-python",
   "name": "python",
   "nbconvert_exporter": "python",
   "pygments_lexer": "ipython3",
   "version": "3.12.8"
  }
 },
 "nbformat": 4,
 "nbformat_minor": 2
}
