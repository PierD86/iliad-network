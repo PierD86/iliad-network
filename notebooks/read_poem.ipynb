{
 "cells": [
  {
   "cell_type": "code",
   "execution_count": 1,
   "metadata": {},
   "outputs": [],
   "source": [
    "from iliad_network.components.analyzers import SentimentAnalyzer\n",
    "from iliad_network.components.preprocessors import TextPreProcessor\n",
    "from iliad_network.components.readers import LocalReader"
   ]
  },
  {
   "cell_type": "code",
   "execution_count": 2,
   "metadata": {},
   "outputs": [
    {
     "name": "stdout",
     "output_type": "stream",
     "text": [
      "Python 3.12.8\n"
     ]
    }
   ],
   "source": [
    "!python --version"
   ]
  },
  {
   "cell_type": "code",
   "execution_count": 3,
   "metadata": {},
   "outputs": [],
   "source": [
    "reader = LocalReader()\n",
    "try:\n",
    "    poem_text = reader.run()\n",
    "    clean_text = poem_text.content  # Access the clean text\n",
    "except ValueError as e:\n",
    "    print(f\"Validation Error: {e}\")"
   ]
  },
  {
   "cell_type": "code",
   "execution_count": 4,
   "metadata": {},
   "outputs": [],
   "source": [
    "preprocessor = TextPreProcessor(model_name=\"en_core_web_sm\")\n",
    "iliad_sentences, iliad_words = preprocessor.clean_text(clean_text)\n",
    "characters = preprocessor.extract_characters(clean_text)"
   ]
  },
  {
   "cell_type": "code",
   "execution_count": 5,
   "metadata": {},
   "outputs": [
    {
     "name": "stdout",
     "output_type": "stream",
     "text": [
      "Sentence: ----------------------------------------------------------------------  BOOK I  Sing, O goddess, the anger of Achilles son of Peleus, that brought countless ills upon the Achaeans. | Sentiment: -0.35\n",
      "Sentence: Many a brave soul did it send hurrying down to Hades, and many a hero did it yield a prey to dogs and vultures, for so were the counsels of Jove fulfilled from the day on which the son of Atreus, king of men, and great Achilles, first fell out with one another.    | Sentiment: 0.4490740740740741\n",
      "Sentence: For nine whole days he shot his arrows among the people, but upon the tenth day Achilles called them in assembly- moved thereto by Juno, who saw the Achaeans in their death-throes and had compassion upon them. | Sentiment: 0.2\n",
      "Sentence: With all sincerity and goodwill he addressed them thus:-   \"Achilles, loved of heaven, you bid me tell you about the anger of King Apollo, I will therefore do so; but consider first and swear that you will stand by me heartily in word and deed, for I know that I shall offend one who rules the Argives with might, to whom all the Achaeans are in subjection. | Sentiment: 0.08333333333333333\n",
      "Sentence: And Achilles answered, \"Fear not, but speak as it is borne in upon you from heaven, for by Apollo, Calchas, to whom you pray, and whose oracles you reveal to us, not a Danaan at our ships shall lay his hand upon you, while I yet live to look upon the face of the earth- | Sentiment: 0.13636363636363635\n"
     ]
    }
   ],
   "source": [
    "analyzer = SentimentAnalyzer(preprocessor=preprocessor)\n",
    "\n",
    "# Example usage\n",
    "char = \"Achilles\"  # Example character\n",
    "achilles_sentiments = analyzer.analyze(iliad_sentences, char)\n",
    "\n",
    "# Print a few example sentences with sentiment scores\n",
    "for sentence, sentiment in achilles_sentiments[:5]:\n",
    "    print(f\"Sentence: {sentence} | Sentiment: {sentiment}\")"
   ]
  },
  {
   "cell_type": "code",
   "execution_count": 9,
   "metadata": {},
   "outputs": [],
   "source": [
    "sentences = [\n",
    "    \"Alice and Bob are friends.\",\n",
    "    \"Alice and Charlie are friends.\",\n",
    "    \"Bob and Charlie have a disagreement.\",\n",
    "]\n",
    "\n",
    "char = \"Bob\"\n",
    "\n",
    "cooccurrence_matrix = analyzer.build_cooccurrence_matrix(sentences)"
   ]
  },
  {
   "cell_type": "code",
   "execution_count": 12,
   "metadata": {},
   "outputs": [
    {
     "ename": "AssertionError",
     "evalue": "",
     "output_type": "error",
     "traceback": [
      "\u001b[0;31m---------------------------------------------------------------------------\u001b[0m",
      "\u001b[0;31mAssertionError\u001b[0m                            Traceback (most recent call last)",
      "Cell \u001b[0;32mIn[12], line 3\u001b[0m\n\u001b[1;32m      1\u001b[0m \u001b[38;5;28;01massert\u001b[39;00m \u001b[38;5;129;01mnot\u001b[39;00m cooccurrence_matrix\u001b[38;5;241m.\u001b[39mempty\n\u001b[1;32m      2\u001b[0m \u001b[38;5;28;01massert\u001b[39;00m cooccurrence_matrix\u001b[38;5;241m.\u001b[39mloc[\u001b[38;5;124m\"\u001b[39m\u001b[38;5;124mAlice\u001b[39m\u001b[38;5;124m\"\u001b[39m, \u001b[38;5;124m\"\u001b[39m\u001b[38;5;124mBob\u001b[39m\u001b[38;5;124m\"\u001b[39m] \u001b[38;5;241m==\u001b[39m \u001b[38;5;241m1\u001b[39m\n\u001b[0;32m----> 3\u001b[0m \u001b[38;5;28;01massert\u001b[39;00m cooccurrence_matrix\u001b[38;5;241m.\u001b[39mloc[\u001b[38;5;124m\"\u001b[39m\u001b[38;5;124mBob\u001b[39m\u001b[38;5;124m\"\u001b[39m, \u001b[38;5;124m\"\u001b[39m\u001b[38;5;124mCharlie\u001b[39m\u001b[38;5;124m\"\u001b[39m] \u001b[38;5;241m==\u001b[39m \u001b[38;5;241m2\u001b[39m\n\u001b[1;32m      4\u001b[0m \u001b[38;5;28;01massert\u001b[39;00m cooccurrence_matrix\u001b[38;5;241m.\u001b[39mloc[\u001b[38;5;124m\"\u001b[39m\u001b[38;5;124mAlice\u001b[39m\u001b[38;5;124m\"\u001b[39m, \u001b[38;5;124m\"\u001b[39m\u001b[38;5;124mCharlie\u001b[39m\u001b[38;5;124m\"\u001b[39m] \u001b[38;5;241m==\u001b[39m \u001b[38;5;241m1\u001b[39m\n",
      "\u001b[0;31mAssertionError\u001b[0m: "
     ]
    }
   ],
   "source": [
    "assert not cooccurrence_matrix.empty\n",
    "assert cooccurrence_matrix.loc[\"Alice\", \"Bob\"] == 1\n",
    "assert cooccurrence_matrix.loc[\"Bob\", \"Charlie\"] == 2\n",
    "assert cooccurrence_matrix.loc[\"Alice\", \"Charlie\"] == 1"
   ]
  }
 ],
 "metadata": {
  "kernelspec": {
   "display_name": ".venv",
   "language": "python",
   "name": "python3"
  },
  "language_info": {
   "codemirror_mode": {
    "name": "ipython",
    "version": 3
   },
   "file_extension": ".py",
   "mimetype": "text/x-python",
   "name": "python",
   "nbconvert_exporter": "python",
   "pygments_lexer": "ipython3",
   "version": "3.12.8"
  }
 },
 "nbformat": 4,
 "nbformat_minor": 2
}
